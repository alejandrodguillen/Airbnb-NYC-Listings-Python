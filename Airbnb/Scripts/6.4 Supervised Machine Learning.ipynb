{
 "cells": [
  {
   "cell_type": "markdown",
   "id": "3bfc2080",
   "metadata": {},
   "source": [
    "# Machine Learning Part 1"
   ]
  },
  {
   "cell_type": "markdown",
   "id": "8bc28b64",
   "metadata": {},
   "source": [
    "## 1. Importing Libraries and Data"
   ]
  },
  {
   "cell_type": "markdown",
   "id": "75402af8",
   "metadata": {},
   "source": [
    "## 2. Data Cleaning"
   ]
  },
  {
   "cell_type": "markdown",
   "id": "22d71251",
   "metadata": {},
   "source": [
    "## 3. Data prep for regression analysis "
   ]
  },
  {
   "cell_type": "markdown",
   "id": "01a3fbca",
   "metadata": {},
   "source": [
    "## 4. Regression Analysis"
   ]
  },
  {
   "cell_type": "markdown",
   "id": "105c5f2f",
   "metadata": {},
   "source": [
    "## Bonus: performance improvement after removing outliers"
   ]
  },
  {
   "cell_type": "markdown",
   "id": "d46c9c1f",
   "metadata": {},
   "source": [
    "### 1. Importing Libraries and Data"
   ]
  },
  {
   "cell_type": "code",
   "execution_count": 1,
   "id": "c32eb633",
   "metadata": {},
   "outputs": [],
   "source": [
    "import pandas as pd\n",
    "import numpy as np\n",
    "import seaborn as sns\n",
    "import matplotlib\n",
    "import matplotlib.pyplot as plt\n",
    "import os\n",
    "import sklearn\n",
    "from sklearn.model_selection import train_test_split \n",
    "from sklearn.linear_model import LinearRegression\n",
    "from sklearn.metrics import mean_squared_error, r2_score"
   ]
  },
  {
   "cell_type": "code",
   "execution_count": 2,
   "id": "20a012fe",
   "metadata": {},
   "outputs": [
    {
     "name": "stdout",
     "output_type": "stream",
     "text": [
      "Requirement already satisfied: scikit-learn in /Users/alejandroguillen/anaconda3/lib/python3.10/site-packages (1.3.0)\n",
      "Requirement already satisfied: joblib>=1.1.1 in /Users/alejandroguillen/anaconda3/lib/python3.10/site-packages (from scikit-learn) (1.3.2)\n",
      "Requirement already satisfied: scipy>=1.5.0 in /Users/alejandroguillen/anaconda3/lib/python3.10/site-packages (from scikit-learn) (1.10.1)\n",
      "Requirement already satisfied: threadpoolctl>=2.0.0 in /Users/alejandroguillen/anaconda3/lib/python3.10/site-packages (from scikit-learn) (3.2.0)\n",
      "Requirement already satisfied: numpy>=1.17.3 in /Users/alejandroguillen/anaconda3/lib/python3.10/site-packages (from scikit-learn) (1.24.3)\n",
      "Note: you may need to restart the kernel to use updated packages.\n"
     ]
    }
   ],
   "source": [
    "pip install scikit-learn"
   ]
  },
  {
   "cell_type": "code",
   "execution_count": 3,
   "id": "9be0f02f",
   "metadata": {},
   "outputs": [],
   "source": [
    "import pandas as pd\n",
    "import numpy as np\n",
    "import seaborn as sns\n",
    "import matplotlib\n",
    "import matplotlib.pyplot as plt\n",
    "import os\n",
    "import sklearn\n",
    "from sklearn.model_selection import train_test_split \n",
    "from sklearn.linear_model import LinearRegression\n",
    "from sklearn.metrics import mean_squared_error, r2_score"
   ]
  },
  {
   "cell_type": "code",
   "execution_count": 4,
   "id": "b4107007",
   "metadata": {},
   "outputs": [],
   "source": [
    "#Importing Data\n",
    "\n",
    "path = r'/Users/alejandroguillen/Documents/Airbnb'"
   ]
  },
  {
   "cell_type": "code",
   "execution_count": 5,
   "id": "a587e783",
   "metadata": {},
   "outputs": [],
   "source": [
    "df_air = pd.read_csv(os.path.join(path, 'Data','Prepared','Airbnb_listings.csv'), index_col=False)"
   ]
  },
  {
   "cell_type": "markdown",
   "id": "51f316c7",
   "metadata": {},
   "source": [
    "### 2. Data Cleaning"
   ]
  },
  {
   "cell_type": "code",
   "execution_count": 6,
   "id": "d5fa74da",
   "metadata": {},
   "outputs": [
    {
     "data": {
      "text/html": [
       "<div>\n",
       "<style scoped>\n",
       "    .dataframe tbody tr th:only-of-type {\n",
       "        vertical-align: middle;\n",
       "    }\n",
       "\n",
       "    .dataframe tbody tr th {\n",
       "        vertical-align: top;\n",
       "    }\n",
       "\n",
       "    .dataframe thead th {\n",
       "        text-align: right;\n",
       "    }\n",
       "</style>\n",
       "<table border=\"1\" class=\"dataframe\">\n",
       "  <thead>\n",
       "    <tr style=\"text-align: right;\">\n",
       "      <th></th>\n",
       "      <th>listing_id</th>\n",
       "      <th>name</th>\n",
       "      <th>host_id</th>\n",
       "      <th>host_name</th>\n",
       "      <th>neighbourhood_group</th>\n",
       "      <th>neighbourhood</th>\n",
       "      <th>latitude</th>\n",
       "      <th>longitude</th>\n",
       "      <th>room_type</th>\n",
       "      <th>price</th>\n",
       "      <th>minimum_nights</th>\n",
       "      <th>number_of_reviews</th>\n",
       "      <th>last_review</th>\n",
       "      <th>reviews_per_month</th>\n",
       "      <th>calculated_host_listings_count</th>\n",
       "      <th>availability_365</th>\n",
       "      <th>number_of_reviews_ltm</th>\n",
       "    </tr>\n",
       "  </thead>\n",
       "  <tbody>\n",
       "    <tr>\n",
       "      <th>0</th>\n",
       "      <td>5121</td>\n",
       "      <td>Rental unit in Brooklyn · ★4.52 · 1 bedroom · ...</td>\n",
       "      <td>7356</td>\n",
       "      <td>Garon</td>\n",
       "      <td>Brooklyn</td>\n",
       "      <td>Bedford-Stuyvesant</td>\n",
       "      <td>40.685350</td>\n",
       "      <td>-73.955120</td>\n",
       "      <td>Private room</td>\n",
       "      <td>60</td>\n",
       "      <td>30</td>\n",
       "      <td>50</td>\n",
       "      <td>12/2/19</td>\n",
       "      <td>0</td>\n",
       "      <td>2</td>\n",
       "      <td>0</td>\n",
       "      <td>0</td>\n",
       "    </tr>\n",
       "    <tr>\n",
       "      <th>1</th>\n",
       "      <td>2595</td>\n",
       "      <td>Rental unit in New York · ★4.68 · Studio · 1 b...</td>\n",
       "      <td>2845</td>\n",
       "      <td>Jennifer</td>\n",
       "      <td>Manhattan</td>\n",
       "      <td>Midtown</td>\n",
       "      <td>40.753560</td>\n",
       "      <td>-73.985590</td>\n",
       "      <td>Entire home/apt</td>\n",
       "      <td>240</td>\n",
       "      <td>30</td>\n",
       "      <td>49</td>\n",
       "      <td>6/21/22</td>\n",
       "      <td>0</td>\n",
       "      <td>3</td>\n",
       "      <td>325</td>\n",
       "      <td>1</td>\n",
       "    </tr>\n",
       "    <tr>\n",
       "      <th>2</th>\n",
       "      <td>14991</td>\n",
       "      <td>Rental unit in New York · ★4.93 · 1 bedroom · ...</td>\n",
       "      <td>59023</td>\n",
       "      <td>Bianca</td>\n",
       "      <td>Manhattan</td>\n",
       "      <td>Lower East Side</td>\n",
       "      <td>40.722070</td>\n",
       "      <td>-73.989760</td>\n",
       "      <td>Private room</td>\n",
       "      <td>120</td>\n",
       "      <td>5</td>\n",
       "      <td>22</td>\n",
       "      <td>5/14/23</td>\n",
       "      <td>0</td>\n",
       "      <td>1</td>\n",
       "      <td>268</td>\n",
       "      <td>3</td>\n",
       "    </tr>\n",
       "    <tr>\n",
       "      <th>3</th>\n",
       "      <td>5136</td>\n",
       "      <td>Rental unit in Brooklyn · ★5.0 · 2 bedrooms · ...</td>\n",
       "      <td>7378</td>\n",
       "      <td>Rebecca</td>\n",
       "      <td>Brooklyn</td>\n",
       "      <td>Sunset Park</td>\n",
       "      <td>40.662650</td>\n",
       "      <td>-73.994540</td>\n",
       "      <td>Entire home/apt</td>\n",
       "      <td>276</td>\n",
       "      <td>21</td>\n",
       "      <td>3</td>\n",
       "      <td>8/10/22</td>\n",
       "      <td>0</td>\n",
       "      <td>1</td>\n",
       "      <td>275</td>\n",
       "      <td>1</td>\n",
       "    </tr>\n",
       "    <tr>\n",
       "      <th>4</th>\n",
       "      <td>59709</td>\n",
       "      <td>Rental unit in New York · ★4.77 · 2 bedrooms ·...</td>\n",
       "      <td>186084</td>\n",
       "      <td>Ricardo &amp; Ashlie</td>\n",
       "      <td>Manhattan</td>\n",
       "      <td>Chinatown</td>\n",
       "      <td>40.717800</td>\n",
       "      <td>-73.993200</td>\n",
       "      <td>Entire home/apt</td>\n",
       "      <td>325</td>\n",
       "      <td>7</td>\n",
       "      <td>69</td>\n",
       "      <td>4/28/23</td>\n",
       "      <td>0</td>\n",
       "      <td>1</td>\n",
       "      <td>38</td>\n",
       "      <td>23</td>\n",
       "    </tr>\n",
       "    <tr>\n",
       "      <th>5</th>\n",
       "      <td>5178</td>\n",
       "      <td>Rental unit in New York · ★4.26 · 1 bedroom · ...</td>\n",
       "      <td>8967</td>\n",
       "      <td>Shunichi</td>\n",
       "      <td>Manhattan</td>\n",
       "      <td>Midtown</td>\n",
       "      <td>40.764570</td>\n",
       "      <td>-73.983170</td>\n",
       "      <td>Private room</td>\n",
       "      <td>68</td>\n",
       "      <td>2</td>\n",
       "      <td>589</td>\n",
       "      <td>5/14/23</td>\n",
       "      <td>3</td>\n",
       "      <td>1</td>\n",
       "      <td>10</td>\n",
       "      <td>51</td>\n",
       "    </tr>\n",
       "    <tr>\n",
       "      <th>6</th>\n",
       "      <td>15341</td>\n",
       "      <td>Condo in New York · ★4.56 · 1 bedroom · 2 beds...</td>\n",
       "      <td>60049</td>\n",
       "      <td>Ted</td>\n",
       "      <td>Manhattan</td>\n",
       "      <td>Lower East Side</td>\n",
       "      <td>40.721359</td>\n",
       "      <td>-73.993668</td>\n",
       "      <td>Entire home/apt</td>\n",
       "      <td>315</td>\n",
       "      <td>30</td>\n",
       "      <td>35</td>\n",
       "      <td>5/23/23</td>\n",
       "      <td>0</td>\n",
       "      <td>1</td>\n",
       "      <td>160</td>\n",
       "      <td>4</td>\n",
       "    </tr>\n",
       "    <tr>\n",
       "      <th>7</th>\n",
       "      <td>5203</td>\n",
       "      <td>Rental unit in New York · ★4.91 · 1 bedroom · ...</td>\n",
       "      <td>7490</td>\n",
       "      <td>MaryEllen</td>\n",
       "      <td>Manhattan</td>\n",
       "      <td>Upper West Side</td>\n",
       "      <td>40.803800</td>\n",
       "      <td>-73.967510</td>\n",
       "      <td>Private room</td>\n",
       "      <td>75</td>\n",
       "      <td>2</td>\n",
       "      <td>118</td>\n",
       "      <td>7/21/17</td>\n",
       "      <td>0</td>\n",
       "      <td>1</td>\n",
       "      <td>0</td>\n",
       "      <td>0</td>\n",
       "    </tr>\n",
       "    <tr>\n",
       "      <th>8</th>\n",
       "      <td>5803</td>\n",
       "      <td>Townhouse in Brooklyn · ★4.71 · 1 bedroom · 1 ...</td>\n",
       "      <td>9744</td>\n",
       "      <td>Laurie</td>\n",
       "      <td>Brooklyn</td>\n",
       "      <td>South Slope</td>\n",
       "      <td>40.668010</td>\n",
       "      <td>-73.987840</td>\n",
       "      <td>Private room</td>\n",
       "      <td>134</td>\n",
       "      <td>3</td>\n",
       "      <td>233</td>\n",
       "      <td>5/15/23</td>\n",
       "      <td>1</td>\n",
       "      <td>3</td>\n",
       "      <td>148</td>\n",
       "      <td>21</td>\n",
       "    </tr>\n",
       "    <tr>\n",
       "      <th>9</th>\n",
       "      <td>60164</td>\n",
       "      <td>Loft in New York · ★4.39 · 3 bedrooms · 3 beds...</td>\n",
       "      <td>289653</td>\n",
       "      <td>Harrison</td>\n",
       "      <td>Manhattan</td>\n",
       "      <td>Tribeca</td>\n",
       "      <td>40.720120</td>\n",
       "      <td>-74.003970</td>\n",
       "      <td>Entire home/apt</td>\n",
       "      <td>500</td>\n",
       "      <td>30</td>\n",
       "      <td>110</td>\n",
       "      <td>11/18/22</td>\n",
       "      <td>0</td>\n",
       "      <td>1</td>\n",
       "      <td>45</td>\n",
       "      <td>2</td>\n",
       "    </tr>\n",
       "    <tr>\n",
       "      <th>10</th>\n",
       "      <td>15385</td>\n",
       "      <td>Rental unit in Brooklyn · ★4.86 · 1 bedroom · ...</td>\n",
       "      <td>60252</td>\n",
       "      <td>Cristina</td>\n",
       "      <td>Brooklyn</td>\n",
       "      <td>Williamsburg</td>\n",
       "      <td>40.712110</td>\n",
       "      <td>-73.963970</td>\n",
       "      <td>Private room</td>\n",
       "      <td>91</td>\n",
       "      <td>7</td>\n",
       "      <td>53</td>\n",
       "      <td>4/8/23</td>\n",
       "      <td>0</td>\n",
       "      <td>1</td>\n",
       "      <td>225</td>\n",
       "      <td>4</td>\n",
       "    </tr>\n",
       "    <tr>\n",
       "      <th>11</th>\n",
       "      <td>15396</td>\n",
       "      <td>Rental unit in New York · ★5.0 · 2 bedrooms · ...</td>\n",
       "      <td>60278</td>\n",
       "      <td>Petra</td>\n",
       "      <td>Manhattan</td>\n",
       "      <td>Chelsea</td>\n",
       "      <td>40.744930</td>\n",
       "      <td>-73.995210</td>\n",
       "      <td>Entire home/apt</td>\n",
       "      <td>400</td>\n",
       "      <td>90</td>\n",
       "      <td>5</td>\n",
       "      <td>11/3/18</td>\n",
       "      <td>0</td>\n",
       "      <td>1</td>\n",
       "      <td>107</td>\n",
       "      <td>0</td>\n",
       "    </tr>\n",
       "    <tr>\n",
       "      <th>12</th>\n",
       "      <td>60181</td>\n",
       "      <td>Rental unit in New York · ★4.80 · 1 bedroom · ...</td>\n",
       "      <td>128806</td>\n",
       "      <td>Sue</td>\n",
       "      <td>Manhattan</td>\n",
       "      <td>East Village</td>\n",
       "      <td>40.725300</td>\n",
       "      <td>-73.980280</td>\n",
       "      <td>Entire home/apt</td>\n",
       "      <td>160</td>\n",
       "      <td>31</td>\n",
       "      <td>38</td>\n",
       "      <td>8/1/22</td>\n",
       "      <td>0</td>\n",
       "      <td>1</td>\n",
       "      <td>3</td>\n",
       "      <td>1</td>\n",
       "    </tr>\n",
       "    <tr>\n",
       "      <th>13</th>\n",
       "      <td>60457</td>\n",
       "      <td>Rental unit in New York · ★4.88 · 1 bedroom · ...</td>\n",
       "      <td>99212</td>\n",
       "      <td>Jessica</td>\n",
       "      <td>Manhattan</td>\n",
       "      <td>Greenwich Village</td>\n",
       "      <td>40.730720</td>\n",
       "      <td>-73.992750</td>\n",
       "      <td>Entire home/apt</td>\n",
       "      <td>250</td>\n",
       "      <td>30</td>\n",
       "      <td>10</td>\n",
       "      <td>8/21/19</td>\n",
       "      <td>0</td>\n",
       "      <td>1</td>\n",
       "      <td>0</td>\n",
       "      <td>0</td>\n",
       "    </tr>\n",
       "    <tr>\n",
       "      <th>14</th>\n",
       "      <td>6848</td>\n",
       "      <td>Rental unit in Brooklyn · ★4.57 · 2 bedrooms ·...</td>\n",
       "      <td>15991</td>\n",
       "      <td>Allen &amp; Irina</td>\n",
       "      <td>Brooklyn</td>\n",
       "      <td>Williamsburg</td>\n",
       "      <td>40.709350</td>\n",
       "      <td>-73.953420</td>\n",
       "      <td>Entire home/apt</td>\n",
       "      <td>81</td>\n",
       "      <td>30</td>\n",
       "      <td>189</td>\n",
       "      <td>2/4/23</td>\n",
       "      <td>1</td>\n",
       "      <td>1</td>\n",
       "      <td>152</td>\n",
       "      <td>5</td>\n",
       "    </tr>\n",
       "    <tr>\n",
       "      <th>15</th>\n",
       "      <td>16338</td>\n",
       "      <td>Rental unit in Brooklyn · ★4.64 · 1 bedroom · ...</td>\n",
       "      <td>63613</td>\n",
       "      <td>Patricia</td>\n",
       "      <td>Brooklyn</td>\n",
       "      <td>Clinton Hill</td>\n",
       "      <td>40.691210</td>\n",
       "      <td>-73.968040</td>\n",
       "      <td>Private room</td>\n",
       "      <td>55</td>\n",
       "      <td>30</td>\n",
       "      <td>32</td>\n",
       "      <td>5/31/23</td>\n",
       "      <td>0</td>\n",
       "      <td>2</td>\n",
       "      <td>66</td>\n",
       "      <td>3</td>\n",
       "    </tr>\n",
       "    <tr>\n",
       "      <th>16</th>\n",
       "      <td>6872</td>\n",
       "      <td>Condo in New York · 1 bedroom · 1 bed · 1 shar...</td>\n",
       "      <td>16104</td>\n",
       "      <td>Kae</td>\n",
       "      <td>Manhattan</td>\n",
       "      <td>East Harlem</td>\n",
       "      <td>40.801070</td>\n",
       "      <td>-73.942550</td>\n",
       "      <td>Private room</td>\n",
       "      <td>65</td>\n",
       "      <td>30</td>\n",
       "      <td>1</td>\n",
       "      <td>6/5/22</td>\n",
       "      <td>0</td>\n",
       "      <td>2</td>\n",
       "      <td>277</td>\n",
       "      <td>1</td>\n",
       "    </tr>\n",
       "    <tr>\n",
       "      <th>17</th>\n",
       "      <td>60611</td>\n",
       "      <td>Rental unit in New York · ★4.84 · 1 bedroom · ...</td>\n",
       "      <td>292204</td>\n",
       "      <td>Blanca</td>\n",
       "      <td>Manhattan</td>\n",
       "      <td>East Harlem</td>\n",
       "      <td>40.792667</td>\n",
       "      <td>-73.946533</td>\n",
       "      <td>Entire home/apt</td>\n",
       "      <td>135</td>\n",
       "      <td>30</td>\n",
       "      <td>194</td>\n",
       "      <td>6/3/23</td>\n",
       "      <td>1</td>\n",
       "      <td>4</td>\n",
       "      <td>115</td>\n",
       "      <td>3</td>\n",
       "    </tr>\n",
       "    <tr>\n",
       "      <th>18</th>\n",
       "      <td>16580</td>\n",
       "      <td>Condo in New York · ★4.79 · 1 bedroom · 1 bed ...</td>\n",
       "      <td>64442</td>\n",
       "      <td>Reka</td>\n",
       "      <td>Manhattan</td>\n",
       "      <td>East Village</td>\n",
       "      <td>40.724890</td>\n",
       "      <td>-73.978100</td>\n",
       "      <td>Private room</td>\n",
       "      <td>143</td>\n",
       "      <td>1</td>\n",
       "      <td>502</td>\n",
       "      <td>5/21/23</td>\n",
       "      <td>4</td>\n",
       "      <td>2</td>\n",
       "      <td>155</td>\n",
       "      <td>44</td>\n",
       "    </tr>\n",
       "    <tr>\n",
       "      <th>19</th>\n",
       "      <td>60666</td>\n",
       "      <td>Rental unit in New York · ★4.73 · 1 bedroom · ...</td>\n",
       "      <td>256161</td>\n",
       "      <td>Wayne</td>\n",
       "      <td>Manhattan</td>\n",
       "      <td>Harlem</td>\n",
       "      <td>40.810060</td>\n",
       "      <td>-73.945590</td>\n",
       "      <td>Private room</td>\n",
       "      <td>111</td>\n",
       "      <td>3</td>\n",
       "      <td>268</td>\n",
       "      <td>5/30/23</td>\n",
       "      <td>1</td>\n",
       "      <td>4</td>\n",
       "      <td>19</td>\n",
       "      <td>40</td>\n",
       "    </tr>\n",
       "  </tbody>\n",
       "</table>\n",
       "</div>"
      ],
      "text/plain": [
       "    listing_id                                               name  host_id  \\\n",
       "0         5121  Rental unit in Brooklyn · ★4.52 · 1 bedroom · ...     7356   \n",
       "1         2595  Rental unit in New York · ★4.68 · Studio · 1 b...     2845   \n",
       "2        14991  Rental unit in New York · ★4.93 · 1 bedroom · ...    59023   \n",
       "3         5136  Rental unit in Brooklyn · ★5.0 · 2 bedrooms · ...     7378   \n",
       "4        59709  Rental unit in New York · ★4.77 · 2 bedrooms ·...   186084   \n",
       "5         5178  Rental unit in New York · ★4.26 · 1 bedroom · ...     8967   \n",
       "6        15341  Condo in New York · ★4.56 · 1 bedroom · 2 beds...    60049   \n",
       "7         5203  Rental unit in New York · ★4.91 · 1 bedroom · ...     7490   \n",
       "8         5803  Townhouse in Brooklyn · ★4.71 · 1 bedroom · 1 ...     9744   \n",
       "9        60164  Loft in New York · ★4.39 · 3 bedrooms · 3 beds...   289653   \n",
       "10       15385  Rental unit in Brooklyn · ★4.86 · 1 bedroom · ...    60252   \n",
       "11       15396  Rental unit in New York · ★5.0 · 2 bedrooms · ...    60278   \n",
       "12       60181  Rental unit in New York · ★4.80 · 1 bedroom · ...   128806   \n",
       "13       60457  Rental unit in New York · ★4.88 · 1 bedroom · ...    99212   \n",
       "14        6848  Rental unit in Brooklyn · ★4.57 · 2 bedrooms ·...    15991   \n",
       "15       16338  Rental unit in Brooklyn · ★4.64 · 1 bedroom · ...    63613   \n",
       "16        6872  Condo in New York · 1 bedroom · 1 bed · 1 shar...    16104   \n",
       "17       60611  Rental unit in New York · ★4.84 · 1 bedroom · ...   292204   \n",
       "18       16580  Condo in New York · ★4.79 · 1 bedroom · 1 bed ...    64442   \n",
       "19       60666  Rental unit in New York · ★4.73 · 1 bedroom · ...   256161   \n",
       "\n",
       "           host_name neighbourhood_group       neighbourhood   latitude  \\\n",
       "0              Garon            Brooklyn  Bedford-Stuyvesant  40.685350   \n",
       "1           Jennifer           Manhattan             Midtown  40.753560   \n",
       "2             Bianca           Manhattan     Lower East Side  40.722070   \n",
       "3            Rebecca            Brooklyn         Sunset Park  40.662650   \n",
       "4   Ricardo & Ashlie           Manhattan           Chinatown  40.717800   \n",
       "5           Shunichi           Manhattan             Midtown  40.764570   \n",
       "6                Ted           Manhattan     Lower East Side  40.721359   \n",
       "7          MaryEllen           Manhattan     Upper West Side  40.803800   \n",
       "8             Laurie            Brooklyn         South Slope  40.668010   \n",
       "9           Harrison           Manhattan             Tribeca  40.720120   \n",
       "10          Cristina            Brooklyn        Williamsburg  40.712110   \n",
       "11             Petra           Manhattan             Chelsea  40.744930   \n",
       "12               Sue           Manhattan        East Village  40.725300   \n",
       "13           Jessica           Manhattan   Greenwich Village  40.730720   \n",
       "14     Allen & Irina            Brooklyn        Williamsburg  40.709350   \n",
       "15          Patricia            Brooklyn        Clinton Hill  40.691210   \n",
       "16               Kae           Manhattan         East Harlem  40.801070   \n",
       "17            Blanca           Manhattan         East Harlem  40.792667   \n",
       "18              Reka           Manhattan        East Village  40.724890   \n",
       "19             Wayne           Manhattan              Harlem  40.810060   \n",
       "\n",
       "    longitude        room_type  price  minimum_nights  number_of_reviews  \\\n",
       "0  -73.955120     Private room     60              30                 50   \n",
       "1  -73.985590  Entire home/apt    240              30                 49   \n",
       "2  -73.989760     Private room    120               5                 22   \n",
       "3  -73.994540  Entire home/apt    276              21                  3   \n",
       "4  -73.993200  Entire home/apt    325               7                 69   \n",
       "5  -73.983170     Private room     68               2                589   \n",
       "6  -73.993668  Entire home/apt    315              30                 35   \n",
       "7  -73.967510     Private room     75               2                118   \n",
       "8  -73.987840     Private room    134               3                233   \n",
       "9  -74.003970  Entire home/apt    500              30                110   \n",
       "10 -73.963970     Private room     91               7                 53   \n",
       "11 -73.995210  Entire home/apt    400              90                  5   \n",
       "12 -73.980280  Entire home/apt    160              31                 38   \n",
       "13 -73.992750  Entire home/apt    250              30                 10   \n",
       "14 -73.953420  Entire home/apt     81              30                189   \n",
       "15 -73.968040     Private room     55              30                 32   \n",
       "16 -73.942550     Private room     65              30                  1   \n",
       "17 -73.946533  Entire home/apt    135              30                194   \n",
       "18 -73.978100     Private room    143               1                502   \n",
       "19 -73.945590     Private room    111               3                268   \n",
       "\n",
       "   last_review  reviews_per_month  calculated_host_listings_count  \\\n",
       "0      12/2/19                  0                               2   \n",
       "1      6/21/22                  0                               3   \n",
       "2      5/14/23                  0                               1   \n",
       "3      8/10/22                  0                               1   \n",
       "4      4/28/23                  0                               1   \n",
       "5      5/14/23                  3                               1   \n",
       "6      5/23/23                  0                               1   \n",
       "7      7/21/17                  0                               1   \n",
       "8      5/15/23                  1                               3   \n",
       "9     11/18/22                  0                               1   \n",
       "10      4/8/23                  0                               1   \n",
       "11     11/3/18                  0                               1   \n",
       "12      8/1/22                  0                               1   \n",
       "13     8/21/19                  0                               1   \n",
       "14      2/4/23                  1                               1   \n",
       "15     5/31/23                  0                               2   \n",
       "16      6/5/22                  0                               2   \n",
       "17      6/3/23                  1                               4   \n",
       "18     5/21/23                  4                               2   \n",
       "19     5/30/23                  1                               4   \n",
       "\n",
       "    availability_365  number_of_reviews_ltm  \n",
       "0                  0                      0  \n",
       "1                325                      1  \n",
       "2                268                      3  \n",
       "3                275                      1  \n",
       "4                 38                     23  \n",
       "5                 10                     51  \n",
       "6                160                      4  \n",
       "7                  0                      0  \n",
       "8                148                     21  \n",
       "9                 45                      2  \n",
       "10               225                      4  \n",
       "11               107                      0  \n",
       "12                 3                      1  \n",
       "13                 0                      0  \n",
       "14               152                      5  \n",
       "15                66                      3  \n",
       "16               277                      1  \n",
       "17               115                      3  \n",
       "18               155                     44  \n",
       "19                19                     40  "
      ]
     },
     "execution_count": 6,
     "metadata": {},
     "output_type": "execute_result"
    }
   ],
   "source": [
    "df_air.head(20)"
   ]
  },
  {
   "cell_type": "code",
   "execution_count": 7,
   "id": "dd7c4826",
   "metadata": {},
   "outputs": [
    {
     "name": "stdout",
     "output_type": "stream",
     "text": [
      "<class 'pandas.core.frame.DataFrame'>\n",
      "RangeIndex: 43541 entries, 0 to 43540\n",
      "Data columns (total 17 columns):\n",
      " #   Column                          Non-Null Count  Dtype  \n",
      "---  ------                          --------------  -----  \n",
      " 0   listing_id                      43541 non-null  int64  \n",
      " 1   name                            43541 non-null  object \n",
      " 2   host_id                         43541 non-null  int64  \n",
      " 3   host_name                       43541 non-null  object \n",
      " 4   neighbourhood_group             43541 non-null  object \n",
      " 5   neighbourhood                   43541 non-null  object \n",
      " 6   latitude                        43541 non-null  float64\n",
      " 7   longitude                       43541 non-null  float64\n",
      " 8   room_type                       43541 non-null  object \n",
      " 9   price                           43541 non-null  int64  \n",
      " 10  minimum_nights                  43541 non-null  int64  \n",
      " 11  number_of_reviews               43541 non-null  int64  \n",
      " 12  last_review                     43541 non-null  object \n",
      " 13  reviews_per_month               43541 non-null  int64  \n",
      " 14  calculated_host_listings_count  43541 non-null  int64  \n",
      " 15  availability_365                43541 non-null  int64  \n",
      " 16  number_of_reviews_ltm           43541 non-null  int64  \n",
      "dtypes: float64(2), int64(9), object(6)\n",
      "memory usage: 5.6+ MB\n"
     ]
    }
   ],
   "source": [
    "df_air.info()"
   ]
  },
  {
   "cell_type": "code",
   "execution_count": 8,
   "id": "a09399b5",
   "metadata": {},
   "outputs": [
    {
     "data": {
      "text/plain": [
       "listing_id                        0\n",
       "name                              0\n",
       "host_id                           0\n",
       "host_name                         0\n",
       "neighbourhood_group               0\n",
       "neighbourhood                     0\n",
       "latitude                          0\n",
       "longitude                         0\n",
       "room_type                         0\n",
       "price                             0\n",
       "minimum_nights                    0\n",
       "number_of_reviews                 0\n",
       "last_review                       0\n",
       "reviews_per_month                 0\n",
       "calculated_host_listings_count    0\n",
       "availability_365                  0\n",
       "number_of_reviews_ltm             0\n",
       "dtype: int64"
      ]
     },
     "execution_count": 8,
     "metadata": {},
     "output_type": "execute_result"
    }
   ],
   "source": [
    "# Checking for missing values\n",
    "\n",
    "df_air.isnull().sum()"
   ]
  },
  {
   "cell_type": "markdown",
   "id": "720c3c7b",
   "metadata": {},
   "source": [
    "#### Note:  last_review and reviews_per_month have the same amount of missing values. They are related to the fact that these hosts have zero reviews (both in general and also in the past 12 months). A lot of of them also have no availability. Will keep them for now."
   ]
  },
  {
   "cell_type": "code",
   "execution_count": 9,
   "id": "265d014f",
   "metadata": {},
   "outputs": [],
   "source": [
    "# Checking for duplicates\n",
    "\n",
    "dups = df_air.duplicated()"
   ]
  },
  {
   "cell_type": "code",
   "execution_count": 10,
   "id": "ae4ae79d",
   "metadata": {},
   "outputs": [
    {
     "data": {
      "text/plain": [
       "(43541,)"
      ]
     },
     "execution_count": 10,
     "metadata": {},
     "output_type": "execute_result"
    }
   ],
   "source": [
    "dups.shape #no dups"
   ]
  },
  {
   "cell_type": "code",
   "execution_count": 11,
   "id": "fb6e0a80",
   "metadata": {},
   "outputs": [
    {
     "name": "stderr",
     "output_type": "stream",
     "text": [
      "/var/folders/9m/8nqk2r316sbdm8n2bttyp65c0000gn/T/ipykernel_29208/473096777.py:2: UserWarning: \n",
      "\n",
      "`distplot` is a deprecated function and will be removed in seaborn v0.14.0.\n",
      "\n",
      "Please adapt your code to use either `displot` (a figure-level function with\n",
      "similar flexibility) or `histplot` (an axes-level function for histograms).\n",
      "\n",
      "For a guide to updating your code to use the new functions, please see\n",
      "https://gist.github.com/mwaskom/de44147ed2974457ad6372750bbe5751\n",
      "\n",
      "  sns.distplot(df_air['availability_365'], bins=10) # Shows extreme values\n"
     ]
    },
    {
     "data": {
      "text/plain": [
       "<Axes: xlabel='availability_365', ylabel='Density'>"
      ]
     },
     "execution_count": 11,
     "metadata": {},
     "output_type": "execute_result"
    },
    {
     "data": {
      "image/png": "[encoded data removed]",
      "text/plain": [
       "<Figure size 640x480 with 1 Axes>"
      ]
     },
     "metadata": {},
     "output_type": "display_data"
    }
   ],
   "source": [
    "# Checking for extreme values\n",
    "sns.distplot(df_air['availability_365'], bins=10) # Shows extreme values\n",
    "\n",
    "# Some of the outliers in the high values may need to be removed. Let's keep them for now."
   ]
  },
  {
   "cell_type": "code",
   "execution_count": 12,
   "id": "deece053",
   "metadata": {},
   "outputs": [
    {
     "data": {
      "text/plain": [
       "137.0350703934223"
      ]
     },
     "execution_count": 12,
     "metadata": {},
     "output_type": "execute_result"
    }
   ],
   "source": [
    "df_air['availability_365'].mean()"
   ]
  },
  {
   "cell_type": "code",
   "execution_count": 13,
   "id": "9d0f893f",
   "metadata": {},
   "outputs": [
    {
     "data": {
      "text/plain": [
       "89.0"
      ]
     },
     "execution_count": 13,
     "metadata": {},
     "output_type": "execute_result"
    }
   ],
   "source": [
    "df_air['availability_365'].median()"
   ]
  },
  {
   "cell_type": "code",
   "execution_count": 14,
   "id": "4fe44239",
   "metadata": {},
   "outputs": [
    {
     "data": {
      "text/plain": [
       "365"
      ]
     },
     "execution_count": 14,
     "metadata": {},
     "output_type": "execute_result"
    }
   ],
   "source": [
    "df_air['availability_365'].max()"
   ]
  },
  {
   "cell_type": "markdown",
   "id": "294c21cc",
   "metadata": {},
   "source": [
    "### 3. Data Prep for Regression Analysis"
   ]
  },
  {
   "cell_type": "code",
   "execution_count": 15,
   "id": "f28c4cfa",
   "metadata": {},
   "outputs": [
    {
     "data": {
      "image/png": "[encoded data removed]",
      "text/plain": [
       "<Figure size 640x480 with 1 Axes>"
      ]
     },
     "metadata": {},
     "output_type": "display_data"
    }
   ],
   "source": [
    "# Create a scatterplot using matplotlib for another look at how the chosen variables plot against each other.\n",
    "\n",
    "df_air.plot(x = 'availability_365', y='price',style='o') # The style option creates a scatterplot; without it, we only have lines.\n",
    "plt.title('Airbnb Availability vs Price')  \n",
    "plt.xlabel('Availability')  \n",
    "plt.ylabel('Price ')  \n",
    "plt.show()"
   ]
  },
  {
   "cell_type": "code",
   "execution_count": 16,
   "id": "7226adc6",
   "metadata": {},
   "outputs": [],
   "source": [
    "# Reshape the variables into NumPy arrays and put them into separate objects.\n",
    "\n",
    "X = df_air['availability_365'].values.reshape(-1,1)\n",
    "y = df_air['price'].values.reshape(-1,1)"
   ]
  },
  {
   "cell_type": "code",
   "execution_count": 17,
   "id": "43a702a9",
   "metadata": {},
   "outputs": [
    {
     "data": {
      "text/plain": [
       "array([[  0],\n",
       "       [325],\n",
       "       [268],\n",
       "       ...,\n",
       "       [288],\n",
       "       [155],\n",
       "       [250]])"
      ]
     },
     "execution_count": 17,
     "metadata": {},
     "output_type": "execute_result"
    }
   ],
   "source": [
    "X"
   ]
  },
  {
   "cell_type": "code",
   "execution_count": 18,
   "id": "f57f9a91",
   "metadata": {},
   "outputs": [
    {
     "data": {
      "text/plain": [
       "array([[ 60],\n",
       "       [240],\n",
       "       [120],\n",
       "       ...,\n",
       "       [382],\n",
       "       [199],\n",
       "       [662]])"
      ]
     },
     "execution_count": 18,
     "metadata": {},
     "output_type": "execute_result"
    }
   ],
   "source": [
    "y"
   ]
  },
  {
   "cell_type": "code",
   "execution_count": 19,
   "id": "cd6e66ad",
   "metadata": {},
   "outputs": [],
   "source": [
    "# Split data into a training set and a test set.\n",
    "\n",
    "X_train, X_test, y_train, y_test = train_test_split(X, y, test_size=0.3, random_state=0)"
   ]
  },
  {
   "cell_type": "markdown",
   "id": "0ad30ddb",
   "metadata": {},
   "source": [
    "### 4. Regression Analysis"
   ]
  },
  {
   "cell_type": "code",
   "execution_count": 20,
   "id": "3be309b2",
   "metadata": {},
   "outputs": [],
   "source": [
    "# Create a regression object.\n",
    "\n",
    "regression = LinearRegression()  # This is the regression object, which will be fit onto the training set."
   ]
  },
  {
   "cell_type": "code",
   "execution_count": 21,
   "id": "674c3c5b",
   "metadata": {},
   "outputs": [
    {
     "data": {
      "text/html": [
       "<style>#sk-container-id-1 {color: black;}#sk-container-id-1 pre{padding: 0;}#sk-container-id-1 div.sk-toggleable {background-color: white;}#sk-container-id-1 label.sk-toggleable__label {cursor: pointer;display: block;width: 100%;margin-bottom: 0;padding: 0.3em;box-sizing: border-box;text-align: center;}#sk-container-id-1 label.sk-toggleable__label-arrow:before {content: \"▸\";float: left;margin-right: 0.25em;color: #696969;}#sk-container-id-1 label.sk-toggleable__label-arrow:hover:before {color: black;}#sk-container-id-1 div.sk-estimator:hover label.sk-toggleable__label-arrow:before {color: black;}#sk-container-id-1 div.sk-toggleable__content {max-height: 0;max-width: 0;overflow: hidden;text-align: left;background-color: #f0f8ff;}#sk-container-id-1 div.sk-toggleable__content pre {margin: 0.2em;color: black;border-radius: 0.25em;background-color: #f0f8ff;}#sk-container-id-1 input.sk-toggleable__control:checked~div.sk-toggleable__content {max-height: 200px;max-width: 100%;overflow: auto;}#sk-container-id-1 input.sk-toggleable__control:checked~label.sk-toggleable__label-arrow:before {content: \"▾\";}#sk-container-id-1 div.sk-estimator input.sk-toggleable__control:checked~label.sk-toggleable__label {background-color: #d4ebff;}#sk-container-id-1 div.sk-label input.sk-toggleable__control:checked~label.sk-toggleable__label {background-color: #d4ebff;}#sk-container-id-1 input.sk-hidden--visually {border: 0;clip: rect(1px 1px 1px 1px);clip: rect(1px, 1px, 1px, 1px);height: 1px;margin: -1px;overflow: hidden;padding: 0;position: absolute;width: 1px;}#sk-container-id-1 div.sk-estimator {font-family: monospace;background-color: #f0f8ff;border: 1px dotted black;border-radius: 0.25em;box-sizing: border-box;margin-bottom: 0.5em;}#sk-container-id-1 div.sk-estimator:hover {background-color: #d4ebff;}#sk-container-id-1 div.sk-parallel-item::after {content: \"\";width: 100%;border-bottom: 1px solid gray;flex-grow: 1;}#sk-container-id-1 div.sk-label:hover label.sk-toggleable__label {background-color: #d4ebff;}#sk-container-id-1 div.sk-serial::before {content: \"\";position: absolute;border-left: 1px solid gray;box-sizing: border-box;top: 0;bottom: 0;left: 50%;z-index: 0;}#sk-container-id-1 div.sk-serial {display: flex;flex-direction: column;align-items: center;background-color: white;padding-right: 0.2em;padding-left: 0.2em;position: relative;}#sk-container-id-1 div.sk-item {position: relative;z-index: 1;}#sk-container-id-1 div.sk-parallel {display: flex;align-items: stretch;justify-content: center;background-color: white;position: relative;}#sk-container-id-1 div.sk-item::before, #sk-container-id-1 div.sk-parallel-item::before {content: \"\";position: absolute;border-left: 1px solid gray;box-sizing: border-box;top: 0;bottom: 0;left: 50%;z-index: -1;}#sk-container-id-1 div.sk-parallel-item {display: flex;flex-direction: column;z-index: 1;position: relative;background-color: white;}#sk-container-id-1 div.sk-parallel-item:first-child::after {align-self: flex-end;width: 50%;}#sk-container-id-1 div.sk-parallel-item:last-child::after {align-self: flex-start;width: 50%;}#sk-container-id-1 div.sk-parallel-item:only-child::after {width: 0;}#sk-container-id-1 div.sk-dashed-wrapped {border: 1px dashed gray;margin: 0 0.4em 0.5em 0.4em;box-sizing: border-box;padding-bottom: 0.4em;background-color: white;}#sk-container-id-1 div.sk-label label {font-family: monospace;font-weight: bold;display: inline-block;line-height: 1.2em;}#sk-container-id-1 div.sk-label-container {text-align: center;}#sk-container-id-1 div.sk-container {/* jupyter's `normalize.less` sets `[hidden] { display: none; }` but bootstrap.min.css set `[hidden] { display: none !important; }` so we also need the `!important` here to be able to override the default hidden behavior on the sphinx rendered scikit-learn.org. See: https://github.com/scikit-learn/scikit-learn/issues/21755 */display: inline-block !important;position: relative;}#sk-container-id-1 div.sk-text-repr-fallback {display: none;}</style><div id=\"sk-container-id-1\" class=\"sk-top-container\"><div class=\"sk-text-repr-fallback\"><pre>LinearRegression()</pre><b>In a Jupyter environment, please rerun this cell to show the HTML representation or trust the notebook. <br />On GitHub, the HTML representation is unable to render, please try loading this page with nbviewer.org.</b></div><div class=\"sk-container\" hidden><div class=\"sk-item\"><div class=\"sk-estimator sk-toggleable\"><input class=\"sk-toggleable__control sk-hidden--visually\" id=\"sk-estimator-id-1\" type=\"checkbox\" checked><label for=\"sk-estimator-id-1\" class=\"sk-toggleable__label sk-toggleable__label-arrow\">LinearRegression</label><div class=\"sk-toggleable__content\"><pre>LinearRegression()</pre></div></div></div></div></div>"
      ],
      "text/plain": [
       "LinearRegression()"
      ]
     },
     "execution_count": 21,
     "metadata": {},
     "output_type": "execute_result"
    }
   ],
   "source": [
    "# Fit the regression object onto the training set.\n",
    "\n",
    "regression.fit(X_train, y_train)"
   ]
  },
  {
   "cell_type": "code",
   "execution_count": 22,
   "id": "9db66265",
   "metadata": {},
   "outputs": [],
   "source": [
    "# Predict the values of y using X.\n",
    "\n",
    "y_predicted = regression.predict(X_test)"
   ]
  },
  {
   "cell_type": "code",
   "execution_count": 23,
   "id": "128535f3",
   "metadata": {},
   "outputs": [
    {
     "data": {
      "image/png": "[encoded data removed]",
      "text/plain": [
       "<Figure size 640x480 with 1 Axes>"
      ]
     },
     "metadata": {},
     "output_type": "display_data"
    }
   ],
   "source": [
    "# Create a plot that shows the regression line from the model on the test set.\n",
    "\n",
    "plot_test = plt\n",
    "plot_test.scatter(X_test, y_test, color='gray', s = 15)\n",
    "plot_test.plot(X_test, y_predicted, color='red', linewidth =3)\n",
    "plot_test.title('Airbnb availability vs Price per Listing (Test set)')\n",
    "plot_test.xlabel('Availability')\n",
    "plot_test.ylabel('Price')\n",
    "plot_test.show()"
   ]
  },
  {
   "cell_type": "markdown",
   "id": "70057d6a",
   "metadata": {},
   "source": [
    "#### Note: the line appears to be accurate (since dots are very close to it) and constant (stays the same), even if it's very low. Diversity of prices are still present within narrow range."
   ]
  },
  {
   "cell_type": "code",
   "execution_count": 24,
   "id": "78136eda",
   "metadata": {},
   "outputs": [],
   "source": [
    "# Create objects that contain the model summary statistics.\n",
    "\n",
    "rmse = mean_squared_error(y_test, y_predicted) # This is the mean squared error\n",
    "r2 = r2_score(y_test, y_predicted) # This is the R2 score."
   ]
  },
  {
   "cell_type": "code",
   "execution_count": 25,
   "id": "8c930324",
   "metadata": {},
   "outputs": [
    {
     "name": "stdout",
     "output_type": "stream",
     "text": [
      "Slope: [[0.29565692]]\n",
      "Mean squared error:  1053797.7802163472\n",
      "R2 score:  0.0015278203384899713\n"
     ]
    }
   ],
   "source": [
    "# Print the model summary statistics. This is where you evaluate the performance of the model.\n",
    "\n",
    "print('Slope:' ,regression.coef_)\n",
    "print('Mean squared error: ', rmse)\n",
    "print('R2 score: ', r2)"
   ]
  },
  {
   "cell_type": "code",
   "execution_count": 26,
   "id": "703e0b5b",
   "metadata": {},
   "outputs": [
    {
     "data": {
      "text/plain": [
       "array([[279.41559445],\n",
       "       [290.35490038],\n",
       "       [202.84045292],\n",
       "       ...,\n",
       "       [183.03143947],\n",
       "       [183.03143947],\n",
       "       [223.2407802 ]])"
      ]
     },
     "execution_count": 26,
     "metadata": {},
     "output_type": "execute_result"
    }
   ],
   "source": [
    "y_predicted"
   ]
  },
  {
   "cell_type": "code",
   "execution_count": 27,
   "id": "e139c92c",
   "metadata": {},
   "outputs": [
    {
     "data": {
      "text/html": [
       "<div>\n",
       "<style scoped>\n",
       "    .dataframe tbody tr th:only-of-type {\n",
       "        vertical-align: middle;\n",
       "    }\n",
       "\n",
       "    .dataframe tbody tr th {\n",
       "        vertical-align: top;\n",
       "    }\n",
       "\n",
       "    .dataframe thead th {\n",
       "        text-align: right;\n",
       "    }\n",
       "</style>\n",
       "<table border=\"1\" class=\"dataframe\">\n",
       "  <thead>\n",
       "    <tr style=\"text-align: right;\">\n",
       "      <th></th>\n",
       "      <th>Actual</th>\n",
       "      <th>Predicted</th>\n",
       "    </tr>\n",
       "  </thead>\n",
       "  <tbody>\n",
       "    <tr>\n",
       "      <th>0</th>\n",
       "      <td>175</td>\n",
       "      <td>279.415594</td>\n",
       "    </tr>\n",
       "    <tr>\n",
       "      <th>1</th>\n",
       "      <td>361</td>\n",
       "      <td>290.354900</td>\n",
       "    </tr>\n",
       "    <tr>\n",
       "      <th>2</th>\n",
       "      <td>420</td>\n",
       "      <td>202.840453</td>\n",
       "    </tr>\n",
       "    <tr>\n",
       "      <th>3</th>\n",
       "      <td>186</td>\n",
       "      <td>279.711251</td>\n",
       "    </tr>\n",
       "    <tr>\n",
       "      <th>4</th>\n",
       "      <td>46</td>\n",
       "      <td>276.754682</td>\n",
       "    </tr>\n",
       "    <tr>\n",
       "      <th>5</th>\n",
       "      <td>150</td>\n",
       "      <td>183.031439</td>\n",
       "    </tr>\n",
       "    <tr>\n",
       "      <th>6</th>\n",
       "      <td>456</td>\n",
       "      <td>198.701256</td>\n",
       "    </tr>\n",
       "    <tr>\n",
       "      <th>7</th>\n",
       "      <td>20</td>\n",
       "      <td>183.031439</td>\n",
       "    </tr>\n",
       "    <tr>\n",
       "      <th>8</th>\n",
       "      <td>120</td>\n",
       "      <td>288.876616</td>\n",
       "    </tr>\n",
       "    <tr>\n",
       "      <th>9</th>\n",
       "      <td>29</td>\n",
       "      <td>183.031439</td>\n",
       "    </tr>\n",
       "    <tr>\n",
       "      <th>10</th>\n",
       "      <td>150</td>\n",
       "      <td>193.083775</td>\n",
       "    </tr>\n",
       "    <tr>\n",
       "      <th>11</th>\n",
       "      <td>50</td>\n",
       "      <td>183.031439</td>\n",
       "    </tr>\n",
       "    <tr>\n",
       "      <th>12</th>\n",
       "      <td>89</td>\n",
       "      <td>183.031439</td>\n",
       "    </tr>\n",
       "    <tr>\n",
       "      <th>13</th>\n",
       "      <td>475</td>\n",
       "      <td>218.214613</td>\n",
       "    </tr>\n",
       "    <tr>\n",
       "      <th>14</th>\n",
       "      <td>350</td>\n",
       "      <td>183.031439</td>\n",
       "    </tr>\n",
       "    <tr>\n",
       "      <th>15</th>\n",
       "      <td>78</td>\n",
       "      <td>230.336546</td>\n",
       "    </tr>\n",
       "    <tr>\n",
       "      <th>16</th>\n",
       "      <td>154</td>\n",
       "      <td>272.911142</td>\n",
       "    </tr>\n",
       "    <tr>\n",
       "      <th>17</th>\n",
       "      <td>400</td>\n",
       "      <td>207.275307</td>\n",
       "    </tr>\n",
       "    <tr>\n",
       "      <th>18</th>\n",
       "      <td>129</td>\n",
       "      <td>183.031439</td>\n",
       "    </tr>\n",
       "    <tr>\n",
       "      <th>19</th>\n",
       "      <td>96</td>\n",
       "      <td>256.058698</td>\n",
       "    </tr>\n",
       "    <tr>\n",
       "      <th>20</th>\n",
       "      <td>140</td>\n",
       "      <td>201.953482</td>\n",
       "    </tr>\n",
       "    <tr>\n",
       "      <th>21</th>\n",
       "      <td>127</td>\n",
       "      <td>209.640562</td>\n",
       "    </tr>\n",
       "    <tr>\n",
       "      <th>22</th>\n",
       "      <td>79</td>\n",
       "      <td>183.031439</td>\n",
       "    </tr>\n",
       "    <tr>\n",
       "      <th>23</th>\n",
       "      <td>90</td>\n",
       "      <td>185.692352</td>\n",
       "    </tr>\n",
       "    <tr>\n",
       "      <th>24</th>\n",
       "      <td>912</td>\n",
       "      <td>248.962932</td>\n",
       "    </tr>\n",
       "    <tr>\n",
       "      <th>25</th>\n",
       "      <td>52</td>\n",
       "      <td>277.050339</td>\n",
       "    </tr>\n",
       "    <tr>\n",
       "      <th>26</th>\n",
       "      <td>631</td>\n",
       "      <td>203.136110</td>\n",
       "    </tr>\n",
       "    <tr>\n",
       "      <th>27</th>\n",
       "      <td>125</td>\n",
       "      <td>255.763041</td>\n",
       "    </tr>\n",
       "    <tr>\n",
       "      <th>28</th>\n",
       "      <td>107</td>\n",
       "      <td>183.031439</td>\n",
       "    </tr>\n",
       "    <tr>\n",
       "      <th>29</th>\n",
       "      <td>68</td>\n",
       "      <td>188.353264</td>\n",
       "    </tr>\n",
       "  </tbody>\n",
       "</table>\n",
       "</div>"
      ],
      "text/plain": [
       "    Actual   Predicted\n",
       "0      175  279.415594\n",
       "1      361  290.354900\n",
       "2      420  202.840453\n",
       "3      186  279.711251\n",
       "4       46  276.754682\n",
       "5      150  183.031439\n",
       "6      456  198.701256\n",
       "7       20  183.031439\n",
       "8      120  288.876616\n",
       "9       29  183.031439\n",
       "10     150  193.083775\n",
       "11      50  183.031439\n",
       "12      89  183.031439\n",
       "13     475  218.214613\n",
       "14     350  183.031439\n",
       "15      78  230.336546\n",
       "16     154  272.911142\n",
       "17     400  207.275307\n",
       "18     129  183.031439\n",
       "19      96  256.058698\n",
       "20     140  201.953482\n",
       "21     127  209.640562\n",
       "22      79  183.031439\n",
       "23      90  185.692352\n",
       "24     912  248.962932\n",
       "25      52  277.050339\n",
       "26     631  203.136110\n",
       "27     125  255.763041\n",
       "28     107  183.031439\n",
       "29      68  188.353264"
      ]
     },
     "execution_count": 27,
     "metadata": {},
     "output_type": "execute_result"
    }
   ],
   "source": [
    "# Create a dataframe comparing the actual and predicted values of y.\n",
    "\n",
    "data = pd.DataFrame({'Actual': y_test.flatten(), 'Predicted': y_predicted.flatten()})\n",
    "data.head(30)"
   ]
  },
  {
   "cell_type": "markdown",
   "id": "f3704f7f",
   "metadata": {},
   "source": [
    "#### Note: even though the line was very close to the dots of the scatterplot, here we can see that the predicted numbers are not close to the actual numbers; indeed, the differences are quite noticeable. This indicates that these two variables don't work to test the hyphotesis for this supervised model, which is: the less availability the listing has, the more expensive it is. "
   ]
  },
  {
   "cell_type": "code",
   "execution_count": 28,
   "id": "8d344a30",
   "metadata": {},
   "outputs": [],
   "source": [
    "# Cleaning price outliers and doing the test again\n",
    "df_air_2 = pd.read_csv(os.path.join(path, 'Data','Prepared','final_listings.csv'), index_col=False)"
   ]
  },
  {
   "cell_type": "code",
   "execution_count": 29,
   "id": "04ce149d",
   "metadata": {},
   "outputs": [],
   "source": [
    "# Reshape the variables into NumPy arrays and put them into separate objects.\n",
    "\n",
    "X = df_air_2['availability_365'].values.reshape(-1,1)\n",
    "y = df_air_2['price'].values.reshape(-1,1)"
   ]
  },
  {
   "cell_type": "code",
   "execution_count": 30,
   "id": "a60718b5",
   "metadata": {},
   "outputs": [],
   "source": [
    "# Split data into a training set and a test set.\n",
    "\n",
    "X_train, X_test, y_train, y_test = train_test_split(X, y, test_size=0.3, random_state=0)"
   ]
  },
  {
   "cell_type": "code",
   "execution_count": 31,
   "id": "86ddc22b",
   "metadata": {},
   "outputs": [],
   "source": [
    "# Create a regression object.\n",
    "\n",
    "regression_2 = LinearRegression()  # This is the regression object, which will be fit onto the training set.\n"
   ]
  },
  {
   "cell_type": "code",
   "execution_count": 32,
   "id": "8f582e31",
   "metadata": {},
   "outputs": [
    {
     "data": {
      "text/html": [
       "<style>#sk-container-id-2 {color: black;}#sk-container-id-2 pre{padding: 0;}#sk-container-id-2 div.sk-toggleable {background-color: white;}#sk-container-id-2 label.sk-toggleable__label {cursor: pointer;display: block;width: 100%;margin-bottom: 0;padding: 0.3em;box-sizing: border-box;text-align: center;}#sk-container-id-2 label.sk-toggleable__label-arrow:before {content: \"▸\";float: left;margin-right: 0.25em;color: #696969;}#sk-container-id-2 label.sk-toggleable__label-arrow:hover:before {color: black;}#sk-container-id-2 div.sk-estimator:hover label.sk-toggleable__label-arrow:before {color: black;}#sk-container-id-2 div.sk-toggleable__content {max-height: 0;max-width: 0;overflow: hidden;text-align: left;background-color: #f0f8ff;}#sk-container-id-2 div.sk-toggleable__content pre {margin: 0.2em;color: black;border-radius: 0.25em;background-color: #f0f8ff;}#sk-container-id-2 input.sk-toggleable__control:checked~div.sk-toggleable__content {max-height: 200px;max-width: 100%;overflow: auto;}#sk-container-id-2 input.sk-toggleable__control:checked~label.sk-toggleable__label-arrow:before {content: \"▾\";}#sk-container-id-2 div.sk-estimator input.sk-toggleable__control:checked~label.sk-toggleable__label {background-color: #d4ebff;}#sk-container-id-2 div.sk-label input.sk-toggleable__control:checked~label.sk-toggleable__label {background-color: #d4ebff;}#sk-container-id-2 input.sk-hidden--visually {border: 0;clip: rect(1px 1px 1px 1px);clip: rect(1px, 1px, 1px, 1px);height: 1px;margin: -1px;overflow: hidden;padding: 0;position: absolute;width: 1px;}#sk-container-id-2 div.sk-estimator {font-family: monospace;background-color: #f0f8ff;border: 1px dotted black;border-radius: 0.25em;box-sizing: border-box;margin-bottom: 0.5em;}#sk-container-id-2 div.sk-estimator:hover {background-color: #d4ebff;}#sk-container-id-2 div.sk-parallel-item::after {content: \"\";width: 100%;border-bottom: 1px solid gray;flex-grow: 1;}#sk-container-id-2 div.sk-label:hover label.sk-toggleable__label {background-color: #d4ebff;}#sk-container-id-2 div.sk-serial::before {content: \"\";position: absolute;border-left: 1px solid gray;box-sizing: border-box;top: 0;bottom: 0;left: 50%;z-index: 0;}#sk-container-id-2 div.sk-serial {display: flex;flex-direction: column;align-items: center;background-color: white;padding-right: 0.2em;padding-left: 0.2em;position: relative;}#sk-container-id-2 div.sk-item {position: relative;z-index: 1;}#sk-container-id-2 div.sk-parallel {display: flex;align-items: stretch;justify-content: center;background-color: white;position: relative;}#sk-container-id-2 div.sk-item::before, #sk-container-id-2 div.sk-parallel-item::before {content: \"\";position: absolute;border-left: 1px solid gray;box-sizing: border-box;top: 0;bottom: 0;left: 50%;z-index: -1;}#sk-container-id-2 div.sk-parallel-item {display: flex;flex-direction: column;z-index: 1;position: relative;background-color: white;}#sk-container-id-2 div.sk-parallel-item:first-child::after {align-self: flex-end;width: 50%;}#sk-container-id-2 div.sk-parallel-item:last-child::after {align-self: flex-start;width: 50%;}#sk-container-id-2 div.sk-parallel-item:only-child::after {width: 0;}#sk-container-id-2 div.sk-dashed-wrapped {border: 1px dashed gray;margin: 0 0.4em 0.5em 0.4em;box-sizing: border-box;padding-bottom: 0.4em;background-color: white;}#sk-container-id-2 div.sk-label label {font-family: monospace;font-weight: bold;display: inline-block;line-height: 1.2em;}#sk-container-id-2 div.sk-label-container {text-align: center;}#sk-container-id-2 div.sk-container {/* jupyter's `normalize.less` sets `[hidden] { display: none; }` but bootstrap.min.css set `[hidden] { display: none !important; }` so we also need the `!important` here to be able to override the default hidden behavior on the sphinx rendered scikit-learn.org. See: https://github.com/scikit-learn/scikit-learn/issues/21755 */display: inline-block !important;position: relative;}#sk-container-id-2 div.sk-text-repr-fallback {display: none;}</style><div id=\"sk-container-id-2\" class=\"sk-top-container\"><div class=\"sk-text-repr-fallback\"><pre>LinearRegression()</pre><b>In a Jupyter environment, please rerun this cell to show the HTML representation or trust the notebook. <br />On GitHub, the HTML representation is unable to render, please try loading this page with nbviewer.org.</b></div><div class=\"sk-container\" hidden><div class=\"sk-item\"><div class=\"sk-estimator sk-toggleable\"><input class=\"sk-toggleable__control sk-hidden--visually\" id=\"sk-estimator-id-2\" type=\"checkbox\" checked><label for=\"sk-estimator-id-2\" class=\"sk-toggleable__label sk-toggleable__label-arrow\">LinearRegression</label><div class=\"sk-toggleable__content\"><pre>LinearRegression()</pre></div></div></div></div></div>"
      ],
      "text/plain": [
       "LinearRegression()"
      ]
     },
     "execution_count": 32,
     "metadata": {},
     "output_type": "execute_result"
    }
   ],
   "source": [
    "# Fit the regression object onto the training set.\n",
    "\n",
    "regression_2.fit(X_train, y_train)"
   ]
  },
  {
   "cell_type": "code",
   "execution_count": 33,
   "id": "5c1a5636",
   "metadata": {},
   "outputs": [],
   "source": [
    "# Predict the values of y using X.\n",
    "\n",
    "y_predicted_2 = regression_2.predict(X_test)"
   ]
  },
  {
   "cell_type": "code",
   "execution_count": 34,
   "id": "461efbaf",
   "metadata": {},
   "outputs": [
    {
     "data": {
      "image/png": "[encoded data removed]",
      "text/plain": [
       "<Figure size 640x480 with 1 Axes>"
      ]
     },
     "metadata": {},
     "output_type": "display_data"
    }
   ],
   "source": [
    "# Create a plot that shows the regression line from the model on the test set.\n",
    "\n",
    "plot_test_2 = plt\n",
    "plot_test.scatter(X_test, y_test, color='gray', s = 15)\n",
    "plot_test.plot(X_test, y_predicted_2, color='red', linewidth =3)\n",
    "plot_test.title('Airbnb availability vs Price per Listing (Test set)')\n",
    "plot_test.xlabel('Availability')\n",
    "plot_test.ylabel('Price')\n",
    "plot_test.show()"
   ]
  },
  {
   "cell_type": "markdown",
   "id": "80801df5",
   "metadata": {},
   "source": [
    "#### Note: here we now see that taking the outliers out created more granularity in the data. Nevertheless, the data still lacks linearity and therefore does not fit this model."
   ]
  },
  {
   "cell_type": "code",
   "execution_count": 35,
   "id": "ecf8441a",
   "metadata": {},
   "outputs": [
    {
     "data": {
      "text/html": [
       "<div>\n",
       "<style scoped>\n",
       "    .dataframe tbody tr th:only-of-type {\n",
       "        vertical-align: middle;\n",
       "    }\n",
       "\n",
       "    .dataframe tbody tr th {\n",
       "        vertical-align: top;\n",
       "    }\n",
       "\n",
       "    .dataframe thead th {\n",
       "        text-align: right;\n",
       "    }\n",
       "</style>\n",
       "<table border=\"1\" class=\"dataframe\">\n",
       "  <thead>\n",
       "    <tr style=\"text-align: right;\">\n",
       "      <th></th>\n",
       "      <th>Unnamed: 0</th>\n",
       "      <th>id</th>\n",
       "      <th>host_id</th>\n",
       "      <th>latitude</th>\n",
       "      <th>longitude</th>\n",
       "      <th>price</th>\n",
       "      <th>minimum_nights</th>\n",
       "      <th>number_of_reviews</th>\n",
       "      <th>reviews_per_month</th>\n",
       "      <th>calculated_host_listings_count</th>\n",
       "      <th>availability_365</th>\n",
       "      <th>number_of_reviews_ltm</th>\n",
       "    </tr>\n",
       "  </thead>\n",
       "  <tbody>\n",
       "    <tr>\n",
       "      <th>count</th>\n",
       "      <td>42569.000000</td>\n",
       "      <td>4.256900e+04</td>\n",
       "      <td>4.256900e+04</td>\n",
       "      <td>42569.000000</td>\n",
       "      <td>42569.000000</td>\n",
       "      <td>42569.000000</td>\n",
       "      <td>42569.000000</td>\n",
       "      <td>42569.000000</td>\n",
       "      <td>32683.000000</td>\n",
       "      <td>42569.000000</td>\n",
       "      <td>42569.000000</td>\n",
       "      <td>42569.000000</td>\n",
       "    </tr>\n",
       "    <tr>\n",
       "      <th>mean</th>\n",
       "      <td>21617.279805</td>\n",
       "      <td>2.537027e+17</td>\n",
       "      <td>1.540645e+08</td>\n",
       "      <td>40.728411</td>\n",
       "      <td>-73.943146</td>\n",
       "      <td>175.907327</td>\n",
       "      <td>18.865090</td>\n",
       "      <td>26.764242</td>\n",
       "      <td>1.223659</td>\n",
       "      <td>29.934577</td>\n",
       "      <td>136.012826</td>\n",
       "      <td>8.007987</td>\n",
       "    </tr>\n",
       "    <tr>\n",
       "      <th>std</th>\n",
       "      <td>12533.112817</td>\n",
       "      <td>3.585198e+17</td>\n",
       "      <td>1.643116e+08</td>\n",
       "      <td>0.057916</td>\n",
       "      <td>0.056524</td>\n",
       "      <td>142.717445</td>\n",
       "      <td>27.752473</td>\n",
       "      <td>58.158317</td>\n",
       "      <td>1.780813</td>\n",
       "      <td>98.327900</td>\n",
       "      <td>137.001699</td>\n",
       "      <td>18.397894</td>\n",
       "    </tr>\n",
       "    <tr>\n",
       "      <th>min</th>\n",
       "      <td>0.000000</td>\n",
       "      <td>2.595000e+03</td>\n",
       "      <td>1.678000e+03</td>\n",
       "      <td>40.500314</td>\n",
       "      <td>-74.249840</td>\n",
       "      <td>0.000000</td>\n",
       "      <td>1.000000</td>\n",
       "      <td>0.000000</td>\n",
       "      <td>0.010000</td>\n",
       "      <td>1.000000</td>\n",
       "      <td>0.000000</td>\n",
       "      <td>0.000000</td>\n",
       "    </tr>\n",
       "    <tr>\n",
       "      <th>25%</th>\n",
       "      <td>10757.000000</td>\n",
       "      <td>1.997990e+07</td>\n",
       "      <td>1.621106e+07</td>\n",
       "      <td>40.687300</td>\n",
       "      <td>-73.981320</td>\n",
       "      <td>80.000000</td>\n",
       "      <td>2.000000</td>\n",
       "      <td>1.000000</td>\n",
       "      <td>0.130000</td>\n",
       "      <td>1.000000</td>\n",
       "      <td>0.000000</td>\n",
       "      <td>0.000000</td>\n",
       "    </tr>\n",
       "    <tr>\n",
       "      <th>50%</th>\n",
       "      <td>21582.000000</td>\n",
       "      <td>4.533160e+07</td>\n",
       "      <td>7.642669e+07</td>\n",
       "      <td>40.723830</td>\n",
       "      <td>-73.952060</td>\n",
       "      <td>133.000000</td>\n",
       "      <td>21.000000</td>\n",
       "      <td>5.000000</td>\n",
       "      <td>0.550000</td>\n",
       "      <td>1.000000</td>\n",
       "      <td>88.000000</td>\n",
       "      <td>1.000000</td>\n",
       "    </tr>\n",
       "    <tr>\n",
       "      <th>75%</th>\n",
       "      <td>32384.000000</td>\n",
       "      <td>6.722890e+17</td>\n",
       "      <td>2.741182e+08</td>\n",
       "      <td>40.762930</td>\n",
       "      <td>-73.923290</td>\n",
       "      <td>220.000000</td>\n",
       "      <td>30.000000</td>\n",
       "      <td>25.000000</td>\n",
       "      <td>1.810000</td>\n",
       "      <td>4.000000</td>\n",
       "      <td>278.000000</td>\n",
       "      <td>8.000000</td>\n",
       "    </tr>\n",
       "    <tr>\n",
       "      <th>max</th>\n",
       "      <td>43540.000000</td>\n",
       "      <td>9.059750e+17</td>\n",
       "      <td>5.180219e+08</td>\n",
       "      <td>40.911380</td>\n",
       "      <td>-73.710870</td>\n",
       "      <td>950.000000</td>\n",
       "      <td>1250.000000</td>\n",
       "      <td>2024.000000</td>\n",
       "      <td>63.950000</td>\n",
       "      <td>569.000000</td>\n",
       "      <td>365.000000</td>\n",
       "      <td>1128.000000</td>\n",
       "    </tr>\n",
       "  </tbody>\n",
       "</table>\n",
       "</div>"
      ],
      "text/plain": [
       "         Unnamed: 0            id       host_id      latitude     longitude  \\\n",
       "count  42569.000000  4.256900e+04  4.256900e+04  42569.000000  42569.000000   \n",
       "mean   21617.279805  2.537027e+17  1.540645e+08     40.728411    -73.943146   \n",
       "std    12533.112817  3.585198e+17  1.643116e+08      0.057916      0.056524   \n",
       "min        0.000000  2.595000e+03  1.678000e+03     40.500314    -74.249840   \n",
       "25%    10757.000000  1.997990e+07  1.621106e+07     40.687300    -73.981320   \n",
       "50%    21582.000000  4.533160e+07  7.642669e+07     40.723830    -73.952060   \n",
       "75%    32384.000000  6.722890e+17  2.741182e+08     40.762930    -73.923290   \n",
       "max    43540.000000  9.059750e+17  5.180219e+08     40.911380    -73.710870   \n",
       "\n",
       "              price  minimum_nights  number_of_reviews  reviews_per_month  \\\n",
       "count  42569.000000    42569.000000       42569.000000       32683.000000   \n",
       "mean     175.907327       18.865090          26.764242           1.223659   \n",
       "std      142.717445       27.752473          58.158317           1.780813   \n",
       "min        0.000000        1.000000           0.000000           0.010000   \n",
       "25%       80.000000        2.000000           1.000000           0.130000   \n",
       "50%      133.000000       21.000000           5.000000           0.550000   \n",
       "75%      220.000000       30.000000          25.000000           1.810000   \n",
       "max      950.000000     1250.000000        2024.000000          63.950000   \n",
       "\n",
       "       calculated_host_listings_count  availability_365  number_of_reviews_ltm  \n",
       "count                    42569.000000      42569.000000           42569.000000  \n",
       "mean                        29.934577        136.012826               8.007987  \n",
       "std                         98.327900        137.001699              18.397894  \n",
       "min                          1.000000          0.000000               0.000000  \n",
       "25%                          1.000000          0.000000               0.000000  \n",
       "50%                          1.000000         88.000000               1.000000  \n",
       "75%                          4.000000        278.000000               8.000000  \n",
       "max                        569.000000        365.000000            1128.000000  "
      ]
     },
     "execution_count": 35,
     "metadata": {},
     "output_type": "execute_result"
    }
   ],
   "source": [
    "df_air_2.describe()"
   ]
  },
  {
   "cell_type": "code",
   "execution_count": null,
   "id": "921fe109",
   "metadata": {},
   "outputs": [],
   "source": []
  }
 ],
 "metadata": {
  "kernelspec": {
   "display_name": "Python 3 (ipykernel)",
   "language": "python",
   "name": "python3"
  },
  "language_info": {
   "codemirror_mode": {
    "name": "ipython",
    "version": 3
   },
   "file_extension": ".py",
   "mimetype": "text/x-python",
   "name": "python",
   "nbconvert_exporter": "python",
   "pygments_lexer": "ipython3",
   "version": "3.10.11"
  }
 },
 "nbformat": 4,
 "nbformat_minor": 5
}
